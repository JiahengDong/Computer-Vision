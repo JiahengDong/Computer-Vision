{
 "cells": [
  {
   "cell_type": "markdown",
   "id": "3b4e030d",
   "metadata": {},
   "source": [
    "### The University of Melbourne, School of Computing and Information Systems\n",
    "# COMP90086 Computer Vision, 2023 Semester 2\n",
    "\n",
    "## Assignment 2"
   ]
  },
  {
   "cell_type": "markdown",
   "id": "47b592bd",
   "metadata": {},
   "source": [
    "**Student Name:**    `Jiaheng Dong`\n",
    "\n",
    "**Student ID:**     `1166436`"
   ]
  },
  {
   "cell_type": "markdown",
   "id": "0cf1c1ce",
   "metadata": {},
   "source": [
    "## This iPython notebook is a template which you should use for your Assignment 2 submission. This file should be submitted at the **Assignment 2: Code** link on the LMS.\n",
    "\n",
    "In addition to this file, you should submit a written report explaining your results at the **Assignment 2: Report** link on the LMS. Please see the assignment specification for details on what must be included in the report for each question.\n",
    "\n",
    "*Adding proper comments to your code is MANDATORY.*"
   ]
  },
  {
   "cell_type": "markdown",
   "id": "920cbf26",
   "metadata": {},
   "source": [
    "### 1. CNN training\n",
    "\n",
    "The following code section will load the dataset from a folder that you specify. You may change the batch sizes and add additional data augmentation steps here if you wish."
   ]
  },
  {
   "cell_type": "code",
   "execution_count": 1,
   "id": "b59fecf6",
   "metadata": {
    "scrolled": true
   },
   "outputs": [
    {
     "name": "stderr",
     "output_type": "stream",
     "text": [
      "2023-09-05 17:02:48.098420: I tensorflow/core/platform/cpu_feature_guard.cc:193] This TensorFlow binary is optimized with oneAPI Deep Neural Network Library (oneDNN) to use the following CPU instructions in performance-critical operations:  SSE4.1 SSE4.2 AVX AVX2 FMA\n",
      "To enable them in other operations, rebuild TensorFlow with the appropriate compiler flags.\n"
     ]
    },
    {
     "name": "stdout",
     "output_type": "stream",
     "text": [
      "Found 1440 images belonging to 8 classes.\n",
      "Found 320 images belonging to 8 classes.\n",
      "Found 320 images belonging to 8 classes.\n",
      "{'coast': 0, 'forest': 1, 'highway': 2, 'insidecity': 3, 'mountain': 4, 'opencountry': 5, 'street': 6, 'tallbuilding': 7}\n"
     ]
    }
   ],
   "source": [
    "from keras.preprocessing.image import ImageDataGenerator\n",
    "import random\n",
    "import numpy as np\n",
    "import tensorflow as tf\n",
    "import matplotlib.pyplot as plt\n",
    "from tensorflow.keras import layers\n",
    "\n",
    "random.seed(0)\n",
    "np.random.seed(0)\n",
    "tf.random.set_seed(0)\n",
    "\n",
    "data_dir = 'scene32' # SPECIFY YOUR PATH TO THE DATASET\n",
    "batch_size = 32\n",
    "\n",
    "# Data generator for training\n",
    "# Additional data augmentation may be added here if desired\n",
    "# could emliminate each data augmentation techniques manually\n",
    "train_datagen = ImageDataGenerator(\n",
    "    rescale=1./255,\n",
    "    #width_shift_range=0.2, # horizontal shift\n",
    "    #height_shift_range=0.2, # vertical shift\n",
    "    zoom_range=0.2, # zoom\n",
    "    horizontal_flip=True, # horizontal flip\n",
    "    brightness_range=[0.5,1], # brightness\n",
    "    rotation_range=20,\n",
    "    fill_mode='nearest'\n",
    ")\n",
    "\n",
    "# Data generator for test\n",
    "# DO NOT USE DATA AUGMENTATION WITH TEST SET\n",
    "test_datagen = ImageDataGenerator(\n",
    "    rescale=1./255)\n",
    "\n",
    "# Generate training data from 'train' directory\n",
    "train_data = train_datagen.flow_from_directory(\n",
    "        data_dir+'/train',\n",
    "        target_size=(32,32),\n",
    "        batch_size=batch_size,\n",
    "        class_mode='categorical')\n",
    "\n",
    "# Generate vaildation data from 'valid' directory\n",
    "val_data = test_datagen.flow_from_directory(\n",
    "        data_dir+'/valid',\n",
    "        target_size=(32,32),\n",
    "        batch_size=batch_size,\n",
    "        class_mode='categorical')\n",
    "\n",
    "# Generate test data from 'test' directory\n",
    "test_data = test_datagen.flow_from_directory(\n",
    "        data_dir+'/test',\n",
    "        target_size=(32,32),\n",
    "        batch_size=batch_size,\n",
    "        class_mode='categorical',\n",
    "        shuffle=False)\n",
    "\n",
    "# Output list of class names\n",
    "class_names_and_indices = train_data.class_indices\n",
    "print(class_names_and_indices)\n",
    "# Note: To train a model with the dataset loaded above, pass the train and val\n",
    "# datasets to the fit() function, like so:\n",
    "# myModel.fit(train_data, validation_data=val_data, ...)"
   ]
  },
  {
   "cell_type": "code",
   "execution_count": 2,
   "id": "c18a21a9",
   "metadata": {},
   "outputs": [
    {
     "name": "stderr",
     "output_type": "stream",
     "text": [
      "2023-09-05 17:02:53.091683: I tensorflow/core/platform/cpu_feature_guard.cc:193] This TensorFlow binary is optimized with oneAPI Deep Neural Network Library (oneDNN) to use the following CPU instructions in performance-critical operations:  SSE4.1 SSE4.2 AVX AVX2 FMA\n",
      "To enable them in other operations, rebuild TensorFlow with the appropriate compiler flags.\n"
     ]
    }
   ],
   "source": [
    "cnn = tf.keras.Sequential(\n",
    "    [\n",
    "        layers.Input((32, 32, 3)),\n",
    "        layers.Conv2D(16,3,strides=(1, 1),padding = \"valid\", activation='relu'),\n",
    "        layers.Conv2D(16,3,strides=(1, 1),padding = \"valid\", activation='relu'),\n",
    "        layers.MaxPool2D(pool_size =(2,2),strides = (2,2), padding = \"valid\"),\n",
    "        layers.Flatten(),\n",
    "        layers.Dense(64, activation = \"relu\"),\n",
    "        layers.Dense(8, activation='softmax')\n",
    "    ], \n",
    ")"
   ]
  },
  {
   "cell_type": "code",
   "execution_count": 3,
   "id": "b8702108",
   "metadata": {},
   "outputs": [],
   "source": [
    "cnn.compile(optimizer='adam',\n",
    "            loss=tf.keras.losses.CategoricalCrossentropy(),\n",
    "            metrics=['categorical_accuracy'])"
   ]
  },
  {
   "cell_type": "code",
   "execution_count": 4,
   "id": "712a48e3",
   "metadata": {},
   "outputs": [],
   "source": [
    "#early stop is used to prevent from overfitting\n",
    "callback = tf.keras.callbacks.EarlyStopping(monitor='loss', mode=\"min\", patience=3, verbose=1)"
   ]
  },
  {
   "cell_type": "code",
   "execution_count": 5,
   "id": "9e4e909e",
   "metadata": {},
   "outputs": [
    {
     "name": "stdout",
     "output_type": "stream",
     "text": [
      "Epoch 1/100\n",
      "45/45 [==============================] - 2s 41ms/step - loss: 1.9060 - categorical_accuracy: 0.2667 - val_loss: 1.8937 - val_categorical_accuracy: 0.3562\n",
      "Epoch 2/100\n",
      "45/45 [==============================] - 2s 38ms/step - loss: 1.6984 - categorical_accuracy: 0.3806 - val_loss: 1.7128 - val_categorical_accuracy: 0.3781\n",
      "Epoch 3/100\n",
      "45/45 [==============================] - 2s 37ms/step - loss: 1.5771 - categorical_accuracy: 0.4431 - val_loss: 1.5110 - val_categorical_accuracy: 0.4719\n",
      "Epoch 4/100\n",
      "45/45 [==============================] - 2s 38ms/step - loss: 1.4573 - categorical_accuracy: 0.5035 - val_loss: 1.2658 - val_categorical_accuracy: 0.5844\n",
      "Epoch 5/100\n",
      "45/45 [==============================] - 2s 37ms/step - loss: 1.3398 - categorical_accuracy: 0.5458 - val_loss: 1.2004 - val_categorical_accuracy: 0.6062\n",
      "Epoch 6/100\n",
      "45/45 [==============================] - 2s 37ms/step - loss: 1.2080 - categorical_accuracy: 0.5958 - val_loss: 1.1152 - val_categorical_accuracy: 0.6062\n",
      "Epoch 7/100\n",
      "45/45 [==============================] - 2s 37ms/step - loss: 1.1585 - categorical_accuracy: 0.6028 - val_loss: 1.0997 - val_categorical_accuracy: 0.6313\n",
      "Epoch 8/100\n",
      "45/45 [==============================] - 2s 37ms/step - loss: 1.0945 - categorical_accuracy: 0.6326 - val_loss: 1.1049 - val_categorical_accuracy: 0.6062\n",
      "Epoch 9/100\n",
      "45/45 [==============================] - 2s 37ms/step - loss: 1.0321 - categorical_accuracy: 0.6319 - val_loss: 0.9500 - val_categorical_accuracy: 0.6750\n",
      "Epoch 10/100\n",
      "45/45 [==============================] - 2s 37ms/step - loss: 0.9840 - categorical_accuracy: 0.6597 - val_loss: 0.9924 - val_categorical_accuracy: 0.6625\n",
      "Epoch 11/100\n",
      "45/45 [==============================] - 2s 37ms/step - loss: 0.9574 - categorical_accuracy: 0.6681 - val_loss: 1.0107 - val_categorical_accuracy: 0.6844\n",
      "Epoch 12/100\n",
      "45/45 [==============================] - 2s 37ms/step - loss: 0.9601 - categorical_accuracy: 0.6562 - val_loss: 0.9805 - val_categorical_accuracy: 0.6687\n",
      "Epoch 13/100\n",
      "45/45 [==============================] - 2s 37ms/step - loss: 0.9450 - categorical_accuracy: 0.6757 - val_loss: 0.9096 - val_categorical_accuracy: 0.7000\n",
      "Epoch 14/100\n",
      "45/45 [==============================] - 2s 38ms/step - loss: 0.9038 - categorical_accuracy: 0.6792 - val_loss: 0.9568 - val_categorical_accuracy: 0.6781\n",
      "Epoch 15/100\n",
      "45/45 [==============================] - 2s 38ms/step - loss: 0.8778 - categorical_accuracy: 0.6903 - val_loss: 1.0188 - val_categorical_accuracy: 0.6344\n",
      "Epoch 16/100\n",
      "45/45 [==============================] - 2s 38ms/step - loss: 0.8809 - categorical_accuracy: 0.6958 - val_loss: 0.9106 - val_categorical_accuracy: 0.7156\n",
      "Epoch 17/100\n",
      "45/45 [==============================] - 2s 37ms/step - loss: 0.8585 - categorical_accuracy: 0.7063 - val_loss: 1.0016 - val_categorical_accuracy: 0.6781\n",
      "Epoch 18/100\n",
      "45/45 [==============================] - 2s 38ms/step - loss: 0.8643 - categorical_accuracy: 0.6861 - val_loss: 0.9730 - val_categorical_accuracy: 0.7000\n",
      "Epoch 19/100\n",
      "45/45 [==============================] - 2s 37ms/step - loss: 0.8054 - categorical_accuracy: 0.7340 - val_loss: 1.1898 - val_categorical_accuracy: 0.6125\n",
      "Epoch 20/100\n",
      "45/45 [==============================] - 2s 37ms/step - loss: 0.8272 - categorical_accuracy: 0.7118 - val_loss: 0.9531 - val_categorical_accuracy: 0.7000\n",
      "Epoch 21/100\n",
      "45/45 [==============================] - 2s 38ms/step - loss: 0.7857 - categorical_accuracy: 0.7222 - val_loss: 0.9566 - val_categorical_accuracy: 0.6875\n",
      "Epoch 22/100\n",
      "45/45 [==============================] - 2s 37ms/step - loss: 0.7849 - categorical_accuracy: 0.7229 - val_loss: 0.8872 - val_categorical_accuracy: 0.7094\n",
      "Epoch 23/100\n",
      "45/45 [==============================] - 2s 38ms/step - loss: 0.7587 - categorical_accuracy: 0.7285 - val_loss: 0.8628 - val_categorical_accuracy: 0.7281\n",
      "Epoch 24/100\n",
      "45/45 [==============================] - 2s 38ms/step - loss: 0.7345 - categorical_accuracy: 0.7306 - val_loss: 0.8897 - val_categorical_accuracy: 0.7156\n",
      "Epoch 25/100\n",
      "45/45 [==============================] - 2s 38ms/step - loss: 0.7226 - categorical_accuracy: 0.7542 - val_loss: 0.9019 - val_categorical_accuracy: 0.7000\n",
      "Epoch 26/100\n",
      "45/45 [==============================] - 2s 38ms/step - loss: 0.7302 - categorical_accuracy: 0.7535 - val_loss: 1.0425 - val_categorical_accuracy: 0.6750\n",
      "Epoch 27/100\n",
      "45/45 [==============================] - 2s 38ms/step - loss: 0.6942 - categorical_accuracy: 0.7583 - val_loss: 0.9449 - val_categorical_accuracy: 0.7031\n",
      "Epoch 28/100\n",
      "45/45 [==============================] - 2s 37ms/step - loss: 0.6965 - categorical_accuracy: 0.7535 - val_loss: 0.9943 - val_categorical_accuracy: 0.6938\n",
      "Epoch 29/100\n",
      "45/45 [==============================] - 2s 38ms/step - loss: 0.7069 - categorical_accuracy: 0.7597 - val_loss: 0.9808 - val_categorical_accuracy: 0.6844\n",
      "Epoch 30/100\n",
      "45/45 [==============================] - 2s 38ms/step - loss: 0.6691 - categorical_accuracy: 0.7750 - val_loss: 0.9168 - val_categorical_accuracy: 0.7250\n",
      "Epoch 31/100\n",
      "45/45 [==============================] - 2s 38ms/step - loss: 0.6495 - categorical_accuracy: 0.7743 - val_loss: 0.8806 - val_categorical_accuracy: 0.7281\n",
      "Epoch 32/100\n",
      "45/45 [==============================] - 2s 38ms/step - loss: 0.6518 - categorical_accuracy: 0.7764 - val_loss: 0.9200 - val_categorical_accuracy: 0.7188\n",
      "Epoch 33/100\n",
      "45/45 [==============================] - 2s 37ms/step - loss: 0.6722 - categorical_accuracy: 0.7688 - val_loss: 0.9900 - val_categorical_accuracy: 0.6906\n",
      "Epoch 34/100\n",
      "45/45 [==============================] - 2s 38ms/step - loss: 0.6202 - categorical_accuracy: 0.7764 - val_loss: 1.1519 - val_categorical_accuracy: 0.6344\n",
      "Epoch 35/100\n",
      "45/45 [==============================] - 2s 38ms/step - loss: 0.6717 - categorical_accuracy: 0.7660 - val_loss: 0.9442 - val_categorical_accuracy: 0.7000\n",
      "Epoch 36/100\n",
      "45/45 [==============================] - 2s 37ms/step - loss: 0.5989 - categorical_accuracy: 0.7931 - val_loss: 0.9034 - val_categorical_accuracy: 0.7125\n",
      "Epoch 37/100\n",
      "45/45 [==============================] - 2s 38ms/step - loss: 0.5896 - categorical_accuracy: 0.7951 - val_loss: 0.9305 - val_categorical_accuracy: 0.7219\n",
      "Epoch 38/100\n",
      "45/45 [==============================] - 2s 37ms/step - loss: 0.5855 - categorical_accuracy: 0.7944 - val_loss: 0.9758 - val_categorical_accuracy: 0.7188\n",
      "Epoch 39/100\n",
      "45/45 [==============================] - 2s 38ms/step - loss: 0.6142 - categorical_accuracy: 0.7840 - val_loss: 1.0233 - val_categorical_accuracy: 0.6969\n",
      "Epoch 40/100\n",
      "45/45 [==============================] - 2s 37ms/step - loss: 0.6175 - categorical_accuracy: 0.7743 - val_loss: 0.9208 - val_categorical_accuracy: 0.7094\n",
      "Epoch 41/100\n",
      "45/45 [==============================] - 2s 38ms/step - loss: 0.5905 - categorical_accuracy: 0.7806 - val_loss: 0.9579 - val_categorical_accuracy: 0.7344\n",
      "Epoch 41: early stopping\n"
     ]
    }
   ],
   "source": [
    "history_cnn = cnn.fit(train_data, epochs=100, validation_data = val_data, callbacks=[callback])"
   ]
  },
  {
   "cell_type": "code",
   "execution_count": 6,
   "id": "df21fea8",
   "metadata": {},
   "outputs": [
    {
     "data": {
      "image/png": "[encoded data removed]",
      "text/plain": [
       "<Figure size 432x288 with 1 Axes>"
      ]
     },
     "metadata": {
      "needs_background": "light"
     },
     "output_type": "display_data"
    }
   ],
   "source": [
    "#final training and validation accuracy\n",
    "plt.plot(history_cnn.history['categorical_accuracy'], label='Train')\n",
    "plt.plot(history_cnn.history['val_categorical_accuracy'], label='Validation')\n",
    "plt.ylabel('Accuracy')\n",
    "plt.xlabel('Epoch')\n",
    "plt.title('Training and validating accuracy')\n",
    "plt.legend()\n",
    "plt.show()"
   ]
  },
  {
   "cell_type": "code",
   "execution_count": 7,
   "id": "dddc05d5",
   "metadata": {},
   "outputs": [
    {
     "data": {
      "image/png": "[encoded data removed]",
      "text/plain": [
       "<Figure size 432x288 with 1 Axes>"
      ]
     },
     "metadata": {
      "needs_background": "light"
     },
     "output_type": "display_data"
    }
   ],
   "source": [
    "#final training and validation loss\n",
    "plt.plot(history_cnn.history['loss'], label='Train')\n",
    "plt.plot(history_cnn.history['val_loss'], label='Validation')\n",
    "plt.ylabel('Loss')\n",
    "plt.xlabel('Epoch')\n",
    "plt.title('Training and validating loss')\n",
    "plt.legend()\n",
    "plt.show()"
   ]
  },
  {
   "cell_type": "code",
   "execution_count": 8,
   "id": "87359ef3",
   "metadata": {},
   "outputs": [
    {
     "name": "stdout",
     "output_type": "stream",
     "text": [
      "10/10 [==============================] - 0s 10ms/step - loss: 0.7953 - categorical_accuracy: 0.7563\n"
     ]
    }
   ],
   "source": [
    "test_result = cnn.evaluate(test_data)"
   ]
  },
  {
   "cell_type": "markdown",
   "id": "1a47af5f",
   "metadata": {},
   "source": [
    "### 2. Error anaylsis"
   ]
  },
  {
   "cell_type": "code",
   "execution_count": 9,
   "id": "6bcf7dfc",
   "metadata": {},
   "outputs": [
    {
     "name": "stdout",
     "output_type": "stream",
     "text": [
      "10/10 [==============================] - 0s 10ms/step\n",
      "              precision    recall  f1-score   support\n",
      "\n",
      "           0       0.79      0.78      0.78        40\n",
      "           1       0.91      0.72      0.81        40\n",
      "           2       0.72      0.78      0.75        40\n",
      "           3       0.64      0.53      0.58        40\n",
      "           4       0.74      0.65      0.69        40\n",
      "           5       0.72      0.78      0.75        40\n",
      "           6       0.74      0.85      0.79        40\n",
      "           7       0.80      0.97      0.88        40\n",
      "\n",
      "    accuracy                           0.76       320\n",
      "   macro avg       0.76      0.76      0.75       320\n",
      "weighted avg       0.76      0.76      0.75       320\n",
      "\n",
      "[[31  0  5  0  2  2  0  0]\n",
      " [ 0 29  0  4  1  2  3  1]\n",
      " [ 0  0 31  5  1  3  0  0]\n",
      " [ 1  0  2 21  2  0  6  8]\n",
      " [ 3  0  2  1 26  5  2  1]\n",
      " [ 4  1  2  0  1 31  1  0]\n",
      " [ 0  1  1  2  2  0 34  0]\n",
      " [ 0  1  0  0  0  0  0 39]]\n"
     ]
    }
   ],
   "source": [
    "from sklearn.metrics import classification_report, confusion_matrix\n",
    "# predict the class label\n",
    "predict = cnn.predict(test_data)\n",
    "y_pred = predict.argmax(axis=-1)\n",
    "y_test = test_data.classes\n",
    "print(classification_report(y_test, y_pred))\n",
    "print(confusion_matrix(y_test, y_pred))\n",
    "\n",
    "#print out y_pred and y_test can used to \n",
    "#visualize which image has been wrongly classified\n",
    "#print(y_pred)\n",
    "#print(y_test)"
   ]
  },
  {
   "cell_type": "markdown",
   "id": "09a39a88",
   "metadata": {},
   "source": [
    "### 3. Kernel engineering"
   ]
  },
  {
   "cell_type": "code",
   "execution_count": 10,
   "id": "803a44dd",
   "metadata": {},
   "outputs": [],
   "source": [
    "import time"
   ]
  },
  {
   "cell_type": "code",
   "execution_count": 11,
   "id": "20284e5b",
   "metadata": {},
   "outputs": [
    {
     "name": "stdout",
     "output_type": "stream",
     "text": [
      "Epoch 65: early stopping\n",
      "time used:  80.49802112579346\n"
     ]
    }
   ],
   "source": [
    "#kernel size 1*1\n",
    "cnnK_1 = tf.keras.Sequential(\n",
    "    [\n",
    "        layers.Input((32, 32, 3)),\n",
    "        layers.Conv2D(16,1,1,padding = \"valid\", activation='relu'),\n",
    "        layers.MaxPool2D(pool_size =(2,2),strides = (2,2), padding = \"valid\"),\n",
    "        layers.Flatten(),\n",
    "        layers.Dense(64, activation = \"relu\"),\n",
    "        layers.Dense(8, activation='softmax')\n",
    "    ], \n",
    ")\n",
    "cnnK_1.compile(optimizer='adam',\n",
    "            loss=tf.keras.losses.CategoricalCrossentropy(),\n",
    "            metrics=['categorical_accuracy'])\n",
    "callback = tf.keras.callbacks.EarlyStopping(monitor='loss', mode=\"min\", patience=3, verbose=1)\n",
    "start_1 = time.time()\n",
    "history_cnnk_1 = cnnK_1.fit(train_data, epochs=100, validation_data = val_data, callbacks=[callback], verbose=0)\n",
    "end_1 = time.time()\n",
    "print(\"time used: \", (end_1 - start_1))"
   ]
  },
  {
   "cell_type": "code",
   "execution_count": 12,
   "id": "38ef53b5",
   "metadata": {},
   "outputs": [
    {
     "name": "stdout",
     "output_type": "stream",
     "text": [
      "Epoch 38: early stopping\n",
      "time used:  50.023160219192505\n"
     ]
    }
   ],
   "source": [
    "#kernel size 3*3\n",
    "cnnK_3 = tf.keras.Sequential(\n",
    "    [\n",
    "        layers.Input((32, 32, 3)),\n",
    "        layers.Conv2D(16,3,1,padding = \"valid\", activation='relu'),\n",
    "        layers.MaxPool2D(pool_size =(2,2),strides = (2,2), padding = \"valid\"),\n",
    "        layers.Flatten(),\n",
    "        layers.Dense(64, activation = \"relu\"),\n",
    "        layers.Dense(8, activation='softmax')\n",
    "    ], \n",
    ")\n",
    "cnnK_3.compile(optimizer='adam',\n",
    "            loss=tf.keras.losses.CategoricalCrossentropy(),\n",
    "            metrics=['categorical_accuracy'])\n",
    "callback = tf.keras.callbacks.EarlyStopping(monitor='loss', mode=\"min\", patience=3, verbose=1)\n",
    "start_2 = time.time()\n",
    "history_cnnk_3 = cnnK_3.fit(train_data, epochs=100, validation_data = val_data, callbacks=[callback], verbose=0)\n",
    "end_2 = time.time()\n",
    "print(\"time used: \", (end_2 - start_2))"
   ]
  },
  {
   "cell_type": "code",
   "execution_count": 13,
   "id": "d19e7629",
   "metadata": {},
   "outputs": [
    {
     "name": "stdout",
     "output_type": "stream",
     "text": [
      "Epoch 33: early stopping\n",
      "time used:  47.28314185142517\n"
     ]
    }
   ],
   "source": [
    "#kernel size 5*5\n",
    "cnnK_5 = tf.keras.Sequential(\n",
    "    [\n",
    "        layers.Input((32, 32, 3)),\n",
    "        layers.Conv2D(16,5,1,padding = \"valid\", activation='relu'),\n",
    "        layers.MaxPool2D(pool_size =(2,2),strides = (2,2), padding = \"valid\"),\n",
    "        layers.Flatten(),\n",
    "        layers.Dense(64, activation = \"relu\"),\n",
    "        layers.Dense(8, activation='softmax')\n",
    "    ], \n",
    ")\n",
    "cnnK_5.compile(optimizer='adam',\n",
    "            loss=tf.keras.losses.CategoricalCrossentropy(),\n",
    "            metrics=['categorical_accuracy'])\n",
    "callback = tf.keras.callbacks.EarlyStopping(monitor='loss', mode=\"min\", patience=3, verbose=1)\n",
    "start_3 = time.time()\n",
    "history_cnnk_5 = cnnK_5.fit(train_data, epochs=100, validation_data = val_data, callbacks=[callback], verbose=0)\n",
    "end_3 = time.time()\n",
    "print(\"time used: \", (end_3 - start_3))"
   ]
  },
  {
   "cell_type": "code",
   "execution_count": 14,
   "id": "39fcd751",
   "metadata": {},
   "outputs": [
    {
     "name": "stdout",
     "output_type": "stream",
     "text": [
      "Epoch 29: early stopping\n",
      "time used:  43.17798709869385\n"
     ]
    }
   ],
   "source": [
    "#kernel size 7*7\n",
    "cnnK_7 = tf.keras.Sequential(\n",
    "    [\n",
    "        layers.Input((32, 32, 3)),\n",
    "        layers.Conv2D(16,7,1,padding = \"valid\", activation='relu'),\n",
    "        layers.MaxPool2D(pool_size =(2,2),strides = (2,2), padding = \"valid\"),\n",
    "        layers.Flatten(),\n",
    "        layers.Dense(64, activation = \"relu\"),\n",
    "        layers.Dense(8, activation='softmax')\n",
    "    ], \n",
    ")\n",
    "cnnK_7.compile(optimizer='adam',\n",
    "            loss=tf.keras.losses.CategoricalCrossentropy(),\n",
    "            metrics=['categorical_accuracy'])\n",
    "callback = tf.keras.callbacks.EarlyStopping(monitor='loss', mode=\"min\", patience=3, verbose=1)\n",
    "start_4 = time.time()\n",
    "history_cnnk_7 = cnnK_7.fit(train_data, epochs=100, validation_data = val_data, callbacks=[callback], verbose=0)\n",
    "end_4 = time.time()\n",
    "print(\"time used: \", (end_4 - start_4))"
   ]
  },
  {
   "cell_type": "code",
   "execution_count": 15,
   "id": "45dab3a9",
   "metadata": {},
   "outputs": [
    {
     "name": "stdout",
     "output_type": "stream",
     "text": [
      "Epoch 34: early stopping\n",
      "time used:  53.397310972213745\n"
     ]
    }
   ],
   "source": [
    "#kernel size 9*9\n",
    "cnnK_9 = tf.keras.Sequential(\n",
    "    [\n",
    "        layers.Input((32, 32, 3)),\n",
    "        layers.Conv2D(16,9,1,padding = \"valid\", activation='relu'),\n",
    "        layers.MaxPool2D(pool_size =(2,2),strides = (2,2), padding = \"valid\"),\n",
    "        layers.Flatten(),\n",
    "        layers.Dense(64, activation = \"relu\"),\n",
    "        layers.Dense(8, activation='softmax')\n",
    "    ], \n",
    ")\n",
    "cnnK_9.compile(optimizer='adam',\n",
    "            loss=tf.keras.losses.CategoricalCrossentropy(),\n",
    "            metrics=['categorical_accuracy'])\n",
    "callback = tf.keras.callbacks.EarlyStopping(monitor='loss', mode=\"min\", patience=3, verbose=1)\n",
    "start_5 = time.time()\n",
    "history_cnnk_9 = cnnK_9.fit(train_data, epochs=100, validation_data = val_data, callbacks=[callback], verbose=0)\n",
    "end_5 = time.time()\n",
    "print(\"time used: \", (end_5 - start_5))"
   ]
  },
  {
   "cell_type": "code",
   "execution_count": 16,
   "id": "32cbf351",
   "metadata": {},
   "outputs": [
    {
     "name": "stdout",
     "output_type": "stream",
     "text": [
      "Epoch 36: early stopping\n",
      "time used:  57.17282295227051\n"
     ]
    }
   ],
   "source": [
    "#kernel size 11*11\n",
    "cnnK_11 = tf.keras.Sequential(\n",
    "    [\n",
    "        layers.Input((32, 32, 3)),\n",
    "        layers.Conv2D(16,11,1,padding = \"valid\", activation='relu'),\n",
    "        layers.MaxPool2D(pool_size =(2,2),strides = (2,2), padding = \"valid\"),\n",
    "        layers.Flatten(),\n",
    "        layers.Dense(64, activation = \"relu\"),\n",
    "        layers.Dense(8, activation='softmax')\n",
    "    ], \n",
    ")\n",
    "cnnK_11.compile(optimizer='adam',\n",
    "            loss=tf.keras.losses.CategoricalCrossentropy(),\n",
    "            metrics=['categorical_accuracy'])\n",
    "callback = tf.keras.callbacks.EarlyStopping(monitor='loss', mode=\"min\", patience=3, verbose=1)\n",
    "start_6 = time.time()\n",
    "history_cnnk_11 = cnnK_11.fit(train_data, epochs=100, validation_data = val_data, callbacks=[callback], verbose=0)\n",
    "end_6 = time.time()\n",
    "print(\"time used: \", (end_6 - start_6))"
   ]
  },
  {
   "cell_type": "code",
   "execution_count": 17,
   "id": "5125a820",
   "metadata": {},
   "outputs": [
    {
     "name": "stdout",
     "output_type": "stream",
     "text": [
      "10/10 [==============================] - 0s 11ms/step - loss: 1.1165 - categorical_accuracy: 0.6562\n",
      "10/10 [==============================] - 0s 9ms/step - loss: 0.8409 - categorical_accuracy: 0.7625\n",
      "10/10 [==============================] - 0s 8ms/step - loss: 0.8952 - categorical_accuracy: 0.7156\n",
      "10/10 [==============================] - 0s 8ms/step - loss: 0.8266 - categorical_accuracy: 0.7469\n",
      "10/10 [==============================] - 0s 8ms/step - loss: 1.0178 - categorical_accuracy: 0.7156\n",
      "10/10 [==============================] - 0s 8ms/step - loss: 1.2038 - categorical_accuracy: 0.6219\n"
     ]
    }
   ],
   "source": [
    "#overall classification accuracy\n",
    "test_result_k1 = cnnK_1.evaluate(test_data)\n",
    "test_result_k3 = cnnK_3.evaluate(test_data)\n",
    "test_result_k5 = cnnK_5.evaluate(test_data)\n",
    "test_result_k7 = cnnK_7.evaluate(test_data)\n",
    "test_result_k9 = cnnK_9.evaluate(test_data)\n",
    "test_result_k11 = cnnK_11.evaluate(test_data)"
   ]
  },
  {
   "cell_type": "code",
   "execution_count": 18,
   "id": "44134d6e",
   "metadata": {},
   "outputs": [
    {
     "data": {
      "image/png": "[encoded data removed]",
      "text/plain": [
       "<Figure size 864x864 with 6 Axes>"
      ]
     },
     "metadata": {
      "needs_background": "light"
     },
     "output_type": "display_data"
    }
   ],
   "source": [
    "model_arr = [cnnK_1, cnnK_3, cnnK_5, cnnK_7, cnnK_9, cnnK_11]\n",
    "fig = plt.figure(figsize=(12, 12))\n",
    "for i in range(6):\n",
    "    filters, biases = model_arr[i].layers[0].get_weights()\n",
    "    # normalize filter values to 0-1 so we can visualize them\n",
    "    f_min, f_max = filters.min(), filters.max()\n",
    "    filters = (filters - f_min) / (f_max - f_min)\n",
    "    # plot first filter of each model's convolutional layer\n",
    "    # get the filter\n",
    "    f = filters[:, :, :, 0]\n",
    "    # plot each channel separately\n",
    "    plt.subplot(1, 6, i+1)\n",
    "    plt.imshow(f)\n",
    "    plt.title(f'{(i+1)*2-1}*{(i+1)*2-1} kernel')\n",
    "    plt.axis('off')\n",
    "    \n",
    "# plot the filters\n",
    "plt.show()"
   ]
  },
  {
   "cell_type": "code",
   "execution_count": 19,
   "id": "0808ca00",
   "metadata": {},
   "outputs": [
    {
     "name": "stdout",
     "output_type": "stream",
     "text": [
      "Model: \"sequential_1\"\n",
      "_________________________________________________________________\n",
      " Layer (type)                Output Shape              Param #   \n",
      "=================================================================\n",
      " conv2d_2 (Conv2D)           (None, 32, 32, 16)        64        \n",
      "                                                                 \n",
      " max_pooling2d_1 (MaxPooling  (None, 16, 16, 16)       0         \n",
      " 2D)                                                             \n",
      "                                                                 \n",
      " flatten_1 (Flatten)         (None, 4096)              0         \n",
      "                                                                 \n",
      " dense_2 (Dense)             (None, 64)                262208    \n",
      "                                                                 \n",
      " dense_3 (Dense)             (None, 8)                 520       \n",
      "                                                                 \n",
      "=================================================================\n",
      "Total params: 262,792\n",
      "Trainable params: 262,792\n",
      "Non-trainable params: 0\n",
      "_________________________________________________________________\n",
      "Model: \"sequential_2\"\n",
      "_________________________________________________________________\n",
      " Layer (type)                Output Shape              Param #   \n",
      "=================================================================\n",
      " conv2d_3 (Conv2D)           (None, 30, 30, 16)        448       \n",
      "                                                                 \n",
      " max_pooling2d_2 (MaxPooling  (None, 15, 15, 16)       0         \n",
      " 2D)                                                             \n",
      "                                                                 \n",
      " flatten_2 (Flatten)         (None, 3600)              0         \n",
      "                                                                 \n",
      " dense_4 (Dense)             (None, 64)                230464    \n",
      "                                                                 \n",
      " dense_5 (Dense)             (None, 8)                 520       \n",
      "                                                                 \n",
      "=================================================================\n",
      "Total params: 231,432\n",
      "Trainable params: 231,432\n",
      "Non-trainable params: 0\n",
      "_________________________________________________________________\n",
      "Model: \"sequential_3\"\n",
      "_________________________________________________________________\n",
      " Layer (type)                Output Shape              Param #   \n",
      "=================================================================\n",
      " conv2d_4 (Conv2D)           (None, 28, 28, 16)        1216      \n",
      "                                                                 \n",
      " max_pooling2d_3 (MaxPooling  (None, 14, 14, 16)       0         \n",
      " 2D)                                                             \n",
      "                                                                 \n",
      " flatten_3 (Flatten)         (None, 3136)              0         \n",
      "                                                                 \n",
      " dense_6 (Dense)             (None, 64)                200768    \n",
      "                                                                 \n",
      " dense_7 (Dense)             (None, 8)                 520       \n",
      "                                                                 \n",
      "=================================================================\n",
      "Total params: 202,504\n",
      "Trainable params: 202,504\n",
      "Non-trainable params: 0\n",
      "_________________________________________________________________\n",
      "Model: \"sequential_4\"\n",
      "_________________________________________________________________\n",
      " Layer (type)                Output Shape              Param #   \n",
      "=================================================================\n",
      " conv2d_5 (Conv2D)           (None, 26, 26, 16)        2368      \n",
      "                                                                 \n",
      " max_pooling2d_4 (MaxPooling  (None, 13, 13, 16)       0         \n",
      " 2D)                                                             \n",
      "                                                                 \n",
      " flatten_4 (Flatten)         (None, 2704)              0         \n",
      "                                                                 \n",
      " dense_8 (Dense)             (None, 64)                173120    \n",
      "                                                                 \n",
      " dense_9 (Dense)             (None, 8)                 520       \n",
      "                                                                 \n",
      "=================================================================\n",
      "Total params: 176,008\n",
      "Trainable params: 176,008\n",
      "Non-trainable params: 0\n",
      "_________________________________________________________________\n",
      "Model: \"sequential_5\"\n",
      "_________________________________________________________________\n",
      " Layer (type)                Output Shape              Param #   \n",
      "=================================================================\n",
      " conv2d_6 (Conv2D)           (None, 24, 24, 16)        3904      \n",
      "                                                                 \n",
      " max_pooling2d_5 (MaxPooling  (None, 12, 12, 16)       0         \n",
      " 2D)                                                             \n",
      "                                                                 \n",
      " flatten_5 (Flatten)         (None, 2304)              0         \n",
      "                                                                 \n",
      " dense_10 (Dense)            (None, 64)                147520    \n",
      "                                                                 \n",
      " dense_11 (Dense)            (None, 8)                 520       \n",
      "                                                                 \n",
      "=================================================================\n",
      "Total params: 151,944\n",
      "Trainable params: 151,944\n",
      "Non-trainable params: 0\n",
      "_________________________________________________________________\n",
      "Model: \"sequential_6\"\n",
      "_________________________________________________________________\n",
      " Layer (type)                Output Shape              Param #   \n",
      "=================================================================\n",
      " conv2d_7 (Conv2D)           (None, 22, 22, 16)        5824      \n",
      "                                                                 \n",
      " max_pooling2d_6 (MaxPooling  (None, 11, 11, 16)       0         \n",
      " 2D)                                                             \n",
      "                                                                 \n",
      " flatten_6 (Flatten)         (None, 1936)              0         \n",
      "                                                                 \n",
      " dense_12 (Dense)            (None, 64)                123968    \n",
      "                                                                 \n",
      " dense_13 (Dense)            (None, 8)                 520       \n",
      "                                                                 \n",
      "=================================================================\n",
      "Total params: 130,312\n",
      "Trainable params: 130,312\n",
      "Non-trainable params: 0\n",
      "_________________________________________________________________\n"
     ]
    }
   ],
   "source": [
    "cnnK_1.summary()\n",
    "cnnK_3.summary()\n",
    "cnnK_5.summary()\n",
    "cnnK_7.summary()\n",
    "cnnK_9.summary()\n",
    "cnnK_11.summary()"
   ]
  },
  {
   "cell_type": "code",
   "execution_count": null,
   "id": "3042292e",
   "metadata": {},
   "outputs": [],
   "source": []
  }
 ],
 "metadata": {
  "kernelspec": {
   "display_name": "Python 3 (ipykernel)",
   "language": "python",
   "name": "python3"
  },
  "language_info": {
   "codemirror_mode": {
    "name": "ipython",
    "version": 3
   },
   "file_extension": ".py",
   "mimetype": "text/x-python",
   "name": "python",
   "nbconvert_exporter": "python",
   "pygments_lexer": "ipython3",
   "version": "3.9.17"
  }
 },
 "nbformat": 4,
 "nbformat_minor": 5
}
